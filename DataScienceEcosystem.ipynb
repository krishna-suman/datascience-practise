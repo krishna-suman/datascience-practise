{
 "cells": [
  {
   "cell_type": "markdown",
   "id": "8e4c58d9-b2b4-493b-9234-e369a48b6de4",
   "metadata": {},
   "source": [
    "<h1>Data Science Tools and Ecosystem</h1>"
   ]
  },
  {
   "cell_type": "markdown",
   "id": "046b8500-ef86-4543-b1a8-da4a42b6a557",
   "metadata": {},
   "source": [
    "In this notebook, Data Science Tools and Ecosystem are summarized."
   ]
  },
  {
   "cell_type": "markdown",
   "id": "bd6a9e2d-bb1d-42ec-8667-f1699a81c25a",
   "metadata": {},
   "source": [
    "<b>Objectives:</b>\n",
    "<ul>\n",
    "    <li>Commonly used languages for data science.</li>\n",
    "    <li>Commonly used libraries in data science.</li>\n",
    "    <li>Development environment open source tools used in data science.</li>\n",
    "</ul>"
   ]
  },
  {
   "cell_type": "markdown",
   "id": "cf8d85c5-8808-4d73-9b33-c08dbfae3bf6",
   "metadata": {},
   "source": [
    "Some of the popular languages that Data Scientists use are:\n",
    "<ol>\n",
    "<li>Python</li>\n",
    " <li>Julia</li>\n",
    " <li>Scala</li>\n",
    " </ol>"
   ]
  },
  {
   "cell_type": "markdown",
   "id": "14789b18-b7bf-49a0-b144-2e17c9660b69",
   "metadata": {},
   "source": [
    "Some of the commonly used libraries used by Data Scientists include:\n",
    "<ol>\n",
    "    <li>pandas</li>\n",
    "    <li>numpy</li>\n",
    "    <li>scikit-learn</li>\n",
    "</ol>"
   ]
  },
  {
   "cell_type": "markdown",
   "id": "93161b0f-a41f-40f5-acaf-27f46b9b55c8",
   "metadata": {},
   "source": [
    "<table border=\"1\">\n",
    "    <tr><th>Data Science Tools</th></tr>\n",
    "    <tr><td>RStudio</td></tr>\n",
    "    <tr><td>Jupyter</td></tr>\n",
    "    <tr><td>Spyder</td></tr>\n",
    "</table>"
   ]
  },
  {
   "cell_type": "markdown",
   "id": "08330d48-6692-4026-8085-2663e6d05dcf",
   "metadata": {},
   "source": [
    "<h3>Below are a few examples of evaluating arithmetic expressions in Python</h3>"
   ]
  },
  {
   "cell_type": "code",
   "execution_count": 2,
   "id": "9673c0ec-c5b7-4f2a-9b21-87e49114d34d",
   "metadata": {},
   "outputs": [
    {
     "data": {
      "text/plain": [
       "17"
      ]
     },
     "execution_count": 2,
     "metadata": {},
     "output_type": "execute_result"
    }
   ],
   "source": [
    "#This a simple arithmetic expression to mutiply then add integers\n",
    "(3*4)+5"
   ]
  },
  {
   "cell_type": "code",
   "execution_count": 3,
   "id": "d8ffe2ad-dbfd-4640-8bc2-b2dd733a6b90",
   "metadata": {},
   "outputs": [
    {
     "data": {
      "text/plain": [
       "3.3333333333333335"
      ]
     },
     "execution_count": 3,
     "metadata": {},
     "output_type": "execute_result"
    }
   ],
   "source": [
    "#This will convert 200 minutes to hours by diving by 60\n",
    "200/60"
   ]
  },
  {
   "cell_type": "markdown",
   "id": "529865c0-0095-4c66-890c-3e712eb9b0a5",
   "metadata": {},
   "source": [
    "<H2>Author</H2>\n",
    "    G.Krishna Suman"
   ]
  }
 ],
 "metadata": {
  "kernelspec": {
   "display_name": "Python 3 (ipykernel)",
   "language": "python",
   "name": "python3"
  },
  "language_info": {
   "codemirror_mode": {
    "name": "ipython",
    "version": 3
   },
   "file_extension": ".py",
   "mimetype": "text/x-python",
   "name": "python",
   "nbconvert_exporter": "python",
   "pygments_lexer": "ipython3",
   "version": "3.10.4"
  }
 },
 "nbformat": 4,
 "nbformat_minor": 5
}
